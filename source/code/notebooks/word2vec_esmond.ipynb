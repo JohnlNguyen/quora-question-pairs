{
 "cells": [
  {
   "cell_type": "code",
   "execution_count": 1,
   "metadata": {
    "collapsed": true
   },
   "outputs": [],
   "source": [
    "import pandas as pd\n",
    "# data = pd.read_csv(\"/Users/esmondchu/Dropbox/UC_Davis/STAT/STA141CSpring18/Final_Project/word2vec/fixed_data/training.csv\", \\\n",
    "#                   header=None)\n",
    "data = pd.read_csv(\"/Users/esmondchu/Dropbox/UC_Davis/STAT/STA141CSpring18/Final_Project/train.csv\")"
   ]
  },
  {
   "cell_type": "code",
   "execution_count": 2,
   "metadata": {},
   "outputs": [
    {
     "data": {
      "text/html": [
       "<div>\n",
       "<style scoped>\n",
       "    .dataframe tbody tr th:only-of-type {\n",
       "        vertical-align: middle;\n",
       "    }\n",
       "\n",
       "    .dataframe tbody tr th {\n",
       "        vertical-align: top;\n",
       "    }\n",
       "\n",
       "    .dataframe thead th {\n",
       "        text-align: right;\n",
       "    }\n",
       "</style>\n",
       "<table border=\"1\" class=\"dataframe\">\n",
       "  <thead>\n",
       "    <tr style=\"text-align: right;\">\n",
       "      <th></th>\n",
       "      <th>id</th>\n",
       "      <th>qid1</th>\n",
       "      <th>qid2</th>\n",
       "      <th>question1</th>\n",
       "      <th>question2</th>\n",
       "      <th>is_duplicate</th>\n",
       "    </tr>\n",
       "  </thead>\n",
       "  <tbody>\n",
       "    <tr>\n",
       "      <th>0</th>\n",
       "      <td>0</td>\n",
       "      <td>1</td>\n",
       "      <td>2</td>\n",
       "      <td>What is the step by step guide to invest in sh...</td>\n",
       "      <td>What is the step by step guide to invest in sh...</td>\n",
       "      <td>0</td>\n",
       "    </tr>\n",
       "    <tr>\n",
       "      <th>1</th>\n",
       "      <td>1</td>\n",
       "      <td>3</td>\n",
       "      <td>4</td>\n",
       "      <td>What is the story of Kohinoor (Koh-i-Noor) Dia...</td>\n",
       "      <td>What would happen if the Indian government sto...</td>\n",
       "      <td>0</td>\n",
       "    </tr>\n",
       "    <tr>\n",
       "      <th>2</th>\n",
       "      <td>2</td>\n",
       "      <td>5</td>\n",
       "      <td>6</td>\n",
       "      <td>How can I increase the speed of my internet co...</td>\n",
       "      <td>How can Internet speed be increased by hacking...</td>\n",
       "      <td>0</td>\n",
       "    </tr>\n",
       "    <tr>\n",
       "      <th>3</th>\n",
       "      <td>3</td>\n",
       "      <td>7</td>\n",
       "      <td>8</td>\n",
       "      <td>Why am I mentally very lonely? How can I solve...</td>\n",
       "      <td>Find the remainder when [math]23^{24}[/math] i...</td>\n",
       "      <td>0</td>\n",
       "    </tr>\n",
       "    <tr>\n",
       "      <th>4</th>\n",
       "      <td>4</td>\n",
       "      <td>9</td>\n",
       "      <td>10</td>\n",
       "      <td>Which one dissolve in water quikly sugar, salt...</td>\n",
       "      <td>Which fish would survive in salt water?</td>\n",
       "      <td>0</td>\n",
       "    </tr>\n",
       "  </tbody>\n",
       "</table>\n",
       "</div>"
      ],
      "text/plain": [
       "   id  qid1  qid2                                          question1  \\\n",
       "0   0     1     2  What is the step by step guide to invest in sh...   \n",
       "1   1     3     4  What is the story of Kohinoor (Koh-i-Noor) Dia...   \n",
       "2   2     5     6  How can I increase the speed of my internet co...   \n",
       "3   3     7     8  Why am I mentally very lonely? How can I solve...   \n",
       "4   4     9    10  Which one dissolve in water quikly sugar, salt...   \n",
       "\n",
       "                                           question2  is_duplicate  \n",
       "0  What is the step by step guide to invest in sh...             0  \n",
       "1  What would happen if the Indian government sto...             0  \n",
       "2  How can Internet speed be increased by hacking...             0  \n",
       "3  Find the remainder when [math]23^{24}[/math] i...             0  \n",
       "4            Which fish would survive in salt water?             0  "
      ]
     },
     "execution_count": 2,
     "metadata": {},
     "output_type": "execute_result"
    }
   ],
   "source": [
    "data.head()"
   ]
  },
  {
   "cell_type": "code",
   "execution_count": 3,
   "metadata": {},
   "outputs": [
    {
     "data": {
      "text/plain": [
       "(404290, 6)"
      ]
     },
     "execution_count": 3,
     "metadata": {},
     "output_type": "execute_result"
    }
   ],
   "source": [
    "data.shape"
   ]
  },
  {
   "cell_type": "markdown",
   "metadata": {},
   "source": [
    "# Preprocessing"
   ]
  },
  {
   "cell_type": "code",
   "execution_count": 4,
   "metadata": {
    "collapsed": true
   },
   "outputs": [],
   "source": [
    "def string_process(str_in):\n",
    "    \"\"\"\n",
    "    Change a sentence in to lowercase and remove punctuation\n",
    "    :param str_in (str): the process sentence\n",
    "    :return: str: the processed sentence\n",
    "    \"\"\"\n",
    "    punc = '?,!.()\\'\":'\n",
    "    str_out = str_in.lower()\n",
    "    for i in punc:\n",
    "        str_out = str_out.replace(i, \" \")\n",
    "    return str_out"
   ]
  },
  {
   "cell_type": "markdown",
   "metadata": {},
   "source": [
    "# Overlapping Score"
   ]
  },
  {
   "cell_type": "code",
   "execution_count": 5,
   "metadata": {
    "collapsed": true
   },
   "outputs": [],
   "source": [
    "data_question = data[['question1','question2','is_duplicate']]\n",
    "# data_question = data[[3,4,5]]\n",
    "# data_question.columns = ['question1','question2','is_duplicate']"
   ]
  },
  {
   "cell_type": "markdown",
   "metadata": {},
   "source": [
    "## Handle Problematic Rows"
   ]
  },
  {
   "cell_type": "code",
   "execution_count": 6,
   "metadata": {
    "collapsed": true
   },
   "outputs": [],
   "source": [
    "#find problematic rows\n",
    "drop_rows = []\n",
    "for i in range(len(data_question.question2)):\n",
    "    if type(data_question.question2[i]) == float:\n",
    "        drop_rows.append(i)"
   ]
  },
  {
   "cell_type": "code",
   "execution_count": 7,
   "metadata": {
    "collapsed": true
   },
   "outputs": [],
   "source": [
    "for i in range(len(data_question.question1)):\n",
    "    if type(data_question.question1[i]) == float:\n",
    "        drop_rows.append(i)"
   ]
  },
  {
   "cell_type": "code",
   "execution_count": 8,
   "metadata": {
    "collapsed": true
   },
   "outputs": [],
   "source": [
    "#create a new copy for modification\n",
    "new_data_df = data_question.copy()"
   ]
  },
  {
   "cell_type": "code",
   "execution_count": 9,
   "metadata": {
    "collapsed": true
   },
   "outputs": [],
   "source": [
    "#drop problematic rows\n",
    "new_data_df.drop(new_data_df.index[drop_rows], inplace=True)"
   ]
  },
  {
   "cell_type": "markdown",
   "metadata": {},
   "source": [
    "## Calculate Overlapping Score"
   ]
  },
  {
   "cell_type": "code",
   "execution_count": 10,
   "metadata": {
    "collapsed": true
   },
   "outputs": [],
   "source": [
    "new_data_df.question1 = new_data_df.question1.apply(string_process)\n",
    "new_data_df.question2 = new_data_df.question2.apply(string_process)"
   ]
  },
  {
   "cell_type": "code",
   "execution_count": 11,
   "metadata": {
    "collapsed": true
   },
   "outputs": [],
   "source": [
    "#split words in a sentence\n",
    "que1 = [i.split() for i in new_data_df.question1]\n",
    "que2 = [i.split() for i in new_data_df.question2]\n",
    "\n",
    "# que1 = list(data_question.question1)\n",
    "# que2 = list(data_question.question2)"
   ]
  },
  {
   "cell_type": "code",
   "execution_count": 12,
   "metadata": {
    "collapsed": true
   },
   "outputs": [],
   "source": [
    "overlap_score = []\n",
    "for q1, q2 in zip(que1,que2):\n",
    "    score1 = 0\n",
    "    score2 = 0\n",
    "    for i in q1:\n",
    "        if i in q2:\n",
    "            score1 += 1\n",
    "    for i in q2:\n",
    "        if i in q1:\n",
    "            score2 += 1\n",
    "\n",
    "    overlapping = (score1 + score2)/(len(q1) + len(q2))\n",
    "    overlap_score.append(overlapping)"
   ]
  },
  {
   "cell_type": "code",
   "execution_count": 13,
   "metadata": {
    "collapsed": true
   },
   "outputs": [],
   "source": [
    "new_data_df['overlapping_score'] = pd.Series(overlap_score)"
   ]
  },
  {
   "cell_type": "code",
   "execution_count": 14,
   "metadata": {},
   "outputs": [
    {
     "data": {
      "text/html": [
       "<div>\n",
       "<style scoped>\n",
       "    .dataframe tbody tr th:only-of-type {\n",
       "        vertical-align: middle;\n",
       "    }\n",
       "\n",
       "    .dataframe tbody tr th {\n",
       "        vertical-align: top;\n",
       "    }\n",
       "\n",
       "    .dataframe thead th {\n",
       "        text-align: right;\n",
       "    }\n",
       "</style>\n",
       "<table border=\"1\" class=\"dataframe\">\n",
       "  <thead>\n",
       "    <tr style=\"text-align: right;\">\n",
       "      <th></th>\n",
       "      <th>question1</th>\n",
       "      <th>question2</th>\n",
       "      <th>is_duplicate</th>\n",
       "      <th>overlapping_score</th>\n",
       "    </tr>\n",
       "  </thead>\n",
       "  <tbody>\n",
       "    <tr>\n",
       "      <th>0</th>\n",
       "      <td>what is the step by step guide to invest in sh...</td>\n",
       "      <td>what is the step by step guide to invest in sh...</td>\n",
       "      <td>0</td>\n",
       "      <td>0.961538</td>\n",
       "    </tr>\n",
       "    <tr>\n",
       "      <th>1</th>\n",
       "      <td>what is the story of kohinoor  koh-i-noor  dia...</td>\n",
       "      <td>what would happen if the indian government sto...</td>\n",
       "      <td>0</td>\n",
       "      <td>0.523810</td>\n",
       "    </tr>\n",
       "    <tr>\n",
       "      <th>2</th>\n",
       "      <td>how can i increase the speed of my internet co...</td>\n",
       "      <td>how can internet speed be increased by hacking...</td>\n",
       "      <td>0</td>\n",
       "      <td>0.333333</td>\n",
       "    </tr>\n",
       "    <tr>\n",
       "      <th>3</th>\n",
       "      <td>why am i mentally very lonely  how can i solve...</td>\n",
       "      <td>find the remainder when [math]23^{24}[/math] i...</td>\n",
       "      <td>0</td>\n",
       "      <td>0.000000</td>\n",
       "    </tr>\n",
       "    <tr>\n",
       "      <th>4</th>\n",
       "      <td>which one dissolve in water quikly sugar  salt...</td>\n",
       "      <td>which fish would survive in salt water</td>\n",
       "      <td>0</td>\n",
       "      <td>0.400000</td>\n",
       "    </tr>\n",
       "  </tbody>\n",
       "</table>\n",
       "</div>"
      ],
      "text/plain": [
       "                                           question1  \\\n",
       "0  what is the step by step guide to invest in sh...   \n",
       "1  what is the story of kohinoor  koh-i-noor  dia...   \n",
       "2  how can i increase the speed of my internet co...   \n",
       "3  why am i mentally very lonely  how can i solve...   \n",
       "4  which one dissolve in water quikly sugar  salt...   \n",
       "\n",
       "                                           question2  is_duplicate  \\\n",
       "0  what is the step by step guide to invest in sh...             0   \n",
       "1  what would happen if the indian government sto...             0   \n",
       "2  how can internet speed be increased by hacking...             0   \n",
       "3  find the remainder when [math]23^{24}[/math] i...             0   \n",
       "4            which fish would survive in salt water              0   \n",
       "\n",
       "   overlapping_score  \n",
       "0           0.961538  \n",
       "1           0.523810  \n",
       "2           0.333333  \n",
       "3           0.000000  \n",
       "4           0.400000  "
      ]
     },
     "execution_count": 14,
     "metadata": {},
     "output_type": "execute_result"
    }
   ],
   "source": [
    "new_data_df.head()"
   ]
  },
  {
   "cell_type": "markdown",
   "metadata": {},
   "source": [
    "# Training Accuracy"
   ]
  },
  {
   "cell_type": "code",
   "execution_count": 15,
   "metadata": {
    "collapsed": true
   },
   "outputs": [],
   "source": [
    "import numpy as np"
   ]
  },
  {
   "cell_type": "markdown",
   "metadata": {},
   "source": [
    "$\\text{sign}(\\text{overlapping score}(q1,q2)-\\text{thr})$"
   ]
  },
  {
   "cell_type": "code",
   "execution_count": 16,
   "metadata": {
    "collapsed": true
   },
   "outputs": [],
   "source": [
    "# def cal_accuracy(thr):\n",
    "#     sig_function = lambda x, thr: np.sign(x - thr)\n",
    "#     predicted = [sig_function(i, thr) for i in overlap_score]\n",
    "\n",
    "#     correct = 0\n",
    "#     for i,j in zip(new_data_df.is_duplicate, predicted):\n",
    "#         if i == j or (i == 0 and j == -1):\n",
    "#             correct += 1\n",
    "        \n",
    "#     accuracy = correct/len(predicted)\n",
    "#     return accuracy "
   ]
  },
  {
   "cell_type": "code",
   "execution_count": 17,
   "metadata": {},
   "outputs": [],
   "source": [
    "# def cal_accuracy(thr):\n",
    "#     predicted = list(((np.array(overlap_score) - thr)>0)*1)\n",
    "#     correct = 0\n",
    "#     for i, j in zip(new_data_df.is_duplicate, predicted):\n",
    "#         if i == j:\n",
    "#             correct += 1\n",
    "    \n",
    "#     accuracy = correct/len(predicted)\n",
    "#     return accuracy"
   ]
  },
  {
   "cell_type": "code",
   "execution_count": 18,
   "metadata": {},
   "outputs": [],
   "source": [
    "def cal_accuracy(thr):\n",
    "    predicted = list(((np.array(overlap_score) - thr) > 0) * 1)\n",
    "    accuracy = np.sum(predicted == new_data_df.is_duplicate)/len(predicted)\n",
    "    return accuracy"
   ]
  },
  {
   "cell_type": "code",
   "execution_count": 19,
   "metadata": {},
   "outputs": [],
   "source": [
    "import time"
   ]
  },
  {
   "cell_type": "code",
   "execution_count": 20,
   "metadata": {},
   "outputs": [
    {
     "name": "stdout",
     "output_type": "stream",
     "text": [
      "Run Time: 0.5359454154968262\n"
     ]
    }
   ],
   "source": [
    "start = time.time()\n",
    "accuracy_thr = [cal_accuracy(i) for i in list(np.arange(0,1,0.1))]\n",
    "end = time.time()\n",
    "print('Run Time:', end-start)"
   ]
  },
  {
   "cell_type": "code",
   "execution_count": 21,
   "metadata": {},
   "outputs": [
    {
     "data": {
      "text/html": [
       "<div>\n",
       "<style scoped>\n",
       "    .dataframe tbody tr th:only-of-type {\n",
       "        vertical-align: middle;\n",
       "    }\n",
       "\n",
       "    .dataframe tbody tr th {\n",
       "        vertical-align: top;\n",
       "    }\n",
       "\n",
       "    .dataframe thead th {\n",
       "        text-align: right;\n",
       "    }\n",
       "</style>\n",
       "<table border=\"1\" class=\"dataframe\">\n",
       "  <thead>\n",
       "    <tr style=\"text-align: right;\">\n",
       "      <th></th>\n",
       "      <th>Accuracy</th>\n",
       "      <th>Threshold</th>\n",
       "    </tr>\n",
       "  </thead>\n",
       "  <tbody>\n",
       "    <tr>\n",
       "      <th>0</th>\n",
       "      <td>0.411193</td>\n",
       "      <td>0.0</td>\n",
       "    </tr>\n",
       "    <tr>\n",
       "      <th>1</th>\n",
       "      <td>0.438587</td>\n",
       "      <td>0.1</td>\n",
       "    </tr>\n",
       "    <tr>\n",
       "      <th>2</th>\n",
       "      <td>0.505938</td>\n",
       "      <td>0.2</td>\n",
       "    </tr>\n",
       "    <tr>\n",
       "      <th>3</th>\n",
       "      <td>0.577624</td>\n",
       "      <td>0.3</td>\n",
       "    </tr>\n",
       "    <tr>\n",
       "      <th>4</th>\n",
       "      <td>0.639390</td>\n",
       "      <td>0.4</td>\n",
       "    </tr>\n",
       "    <tr>\n",
       "      <th>5</th>\n",
       "      <td>0.664837</td>\n",
       "      <td>0.5</td>\n",
       "    </tr>\n",
       "    <tr>\n",
       "      <th>6</th>\n",
       "      <td>0.659687</td>\n",
       "      <td>0.6</td>\n",
       "    </tr>\n",
       "    <tr>\n",
       "      <th>7</th>\n",
       "      <td>0.645321</td>\n",
       "      <td>0.7</td>\n",
       "    </tr>\n",
       "    <tr>\n",
       "      <th>8</th>\n",
       "      <td>0.630943</td>\n",
       "      <td>0.8</td>\n",
       "    </tr>\n",
       "    <tr>\n",
       "      <th>9</th>\n",
       "      <td>0.625798</td>\n",
       "      <td>0.9</td>\n",
       "    </tr>\n",
       "  </tbody>\n",
       "</table>\n",
       "</div>"
      ],
      "text/plain": [
       "   Accuracy  Threshold\n",
       "0  0.411193        0.0\n",
       "1  0.438587        0.1\n",
       "2  0.505938        0.2\n",
       "3  0.577624        0.3\n",
       "4  0.639390        0.4\n",
       "5  0.664837        0.5\n",
       "6  0.659687        0.6\n",
       "7  0.645321        0.7\n",
       "8  0.630943        0.8\n",
       "9  0.625798        0.9"
      ]
     },
     "execution_count": 21,
     "metadata": {},
     "output_type": "execute_result"
    }
   ],
   "source": [
    "display_df = pd.DataFrame({'Accuracy': accuracy_thr, 'Threshold':list(np.arange(0,1,0.1))})\n",
    "display_df"
   ]
  },
  {
   "cell_type": "code",
   "execution_count": 22,
   "metadata": {
    "collapsed": true
   },
   "outputs": [],
   "source": [
    "import matplotlib.pyplot as plt"
   ]
  },
  {
   "cell_type": "code",
   "execution_count": 23,
   "metadata": {},
   "outputs": [
    {
     "data": {
      "image/png": "[encoded data removed]",
      "text/plain": [
       "<matplotlib.figure.Figure at 0x114be1e10>"
      ]
     },
     "metadata": {},
     "output_type": "display_data"
    }
   ],
   "source": [
    "x = list(np.arange(0,1,0.1))\n",
    "plt.figure(figsize=(10,5))\n",
    "plt.plot(x, accuracy_thr)\n",
    "plt.title('Accuracy vs Threshold')\n",
    "plt.xlabel('Threshold')\n",
    "plt.ylabel('Accuracy')\n",
    "plt.grid()\n",
    "plt.show()"
   ]
  },
  {
   "cell_type": "markdown",
   "metadata": {
    "collapsed": true
   },
   "source": [
    "# Using word2vec to advance overlapping score"
   ]
  },
  {
   "cell_type": "code",
   "execution_count": 24,
   "metadata": {
    "collapsed": true
   },
   "outputs": [],
   "source": [
    "import gensim \n",
    "import logging\n",
    "import time"
   ]
  },
  {
   "cell_type": "code",
   "execution_count": 25,
   "metadata": {},
   "outputs": [],
   "source": [
    "#build sentence base, question 1 combines with question 2\n",
    "que = que1 + que2"
   ]
  },
  {
   "cell_type": "code",
   "execution_count": 26,
   "metadata": {},
   "outputs": [
    {
     "name": "stdout",
     "output_type": "stream",
     "text": [
      "Run Time: 25.86111617088318\n"
     ]
    }
   ],
   "source": [
    "#build model from question 1 and question 2\n",
    "start = time.time()\n",
    "model = gensim.models.Word2Vec(que, size=100, window=5, min_count=5, workers=4)\n",
    "end = time.time()\n",
    "print('Run Time:', end-start)"
   ]
  },
  {
   "cell_type": "code",
   "execution_count": 27,
   "metadata": {},
   "outputs": [
    {
     "name": "stderr",
     "output_type": "stream",
     "text": [
      "/anaconda3/lib/python3.6/site-packages/ipykernel_launcher.py:2: DeprecationWarning: Call to deprecated `most_similar` (Method will be removed in 4.0.0, use self.wv.most_similar() instead).\n",
      "  \n"
     ]
    },
    {
     "data": {
      "text/plain": [
       "[('carolina', 0.7837440371513367),\n",
       " ('africa', 0.7551262974739075),\n",
       " ('america', 0.714587926864624),\n",
       " ('dakota', 0.7018466591835022),\n",
       " ('sudan', 0.656804621219635),\n",
       " ('vietnam', 0.65174400806427),\n",
       " ('koreans', 0.6452322602272034),\n",
       " ('pole', 0.641333818435669),\n",
       " ('china', 0.6400418877601624),\n",
       " ('japan', 0.6388459205627441)]"
      ]
     },
     "execution_count": 27,
     "metadata": {},
     "output_type": "execute_result"
    }
   ],
   "source": [
    "#example\n",
    "model.most_similar(positive=['korea'])"
   ]
  },
  {
   "cell_type": "markdown",
   "metadata": {},
   "source": [
    "## Add constrain from built model for calculating overlapping score "
   ]
  },
  {
   "cell_type": "code",
   "execution_count": 28,
   "metadata": {},
   "outputs": [],
   "source": [
    "from progressbar import ProgressBar\n",
    "bar = ProgressBar()"
   ]
  },
  {
   "cell_type": "code",
   "execution_count": 29,
   "metadata": {},
   "outputs": [
    {
     "name": "stderr",
     "output_type": "stream",
     "text": [
      "/ |#                                                  | 0 Elapsed Time: 0:00:00/anaconda3/lib/python3.6/site-packages/ipykernel_launcher.py:11: DeprecationWarning: Call to deprecated `most_similar` (Method will be removed in 4.0.0, use self.wv.most_similar() instead).\n",
      "  # This is added back by InteractiveShellApp.init_path()\n",
      "/anaconda3/lib/python3.6/site-packages/ipykernel_launcher.py:25: DeprecationWarning: Call to deprecated `most_similar` (Method will be removed in 4.0.0, use self.wv.most_similar() instead).\n",
      "| |                            #                     | 99 Elapsed Time: 0:00:02\n"
     ]
    }
   ],
   "source": [
    "similarity_rate = 0.1\n",
    "top_pick_num = 10\n",
    "\n",
    "overlap_score_model = []\n",
    "for q1, q2 in bar(zip(que1[0:100],que2[0:100])):\n",
    "    score1 = 0\n",
    "    score2 = 0\n",
    "    #handle score 1\n",
    "    for i in q1:\n",
    "        try:\n",
    "            check_list_q1 = model.most_similar(positive=[i])\n",
    "            picked_q1 = [i[0] for i in check_list_q1 if i[1] >= similarity_rate]\n",
    "            if len(picked_q1) <= top_pick_num:\n",
    "                selected_q1 = picked_q1\n",
    "            else:\n",
    "                selected_q1 = picked_q1[0:top_pick_num]\n",
    "            for i in selected_q1:\n",
    "                if i in q2:\n",
    "                    score1 += 1\n",
    "        except:\n",
    "            score1 = 0\n",
    "    #handle score 2\n",
    "    for i in q2:\n",
    "        try:\n",
    "            check_list_q2 = model.most_similar(positive=[i])\n",
    "            picked_q2 = [i[0] for i in check_list_q2 if i[1] >= similarity_rate]\n",
    "            if len(picked_q2) <= top_pick_num:\n",
    "                selected_q2 = picked_q2\n",
    "            else:\n",
    "                selected_q2 = picked_q2[0:top_pick_num]\n",
    "            for i in selected_q2:\n",
    "                if i in q1:\n",
    "                    score2 += 1\n",
    "        except:\n",
    "            score2 = 0\n",
    "    \n",
    "    overlapping_model = (score1 + score2)/(len(q1) + len(q2))\n",
    "    overlap_score_model.append(overlapping_model)"
   ]
  },
  {
   "cell_type": "code",
   "execution_count": 30,
   "metadata": {
    "collapsed": true
   },
   "outputs": [],
   "source": [
    "def cal_accuracy_model(thr):\n",
    "    predicted_model = list(((np.array(overlap_score_model) - thr) > 0) * 1)\n",
    "    accuracy_model = np.sum(predicted_model == new_data_df.is_duplicate[0:100])/len(predicted_model)\n",
    "    return accuracy_model"
   ]
  },
  {
   "cell_type": "code",
   "execution_count": 31,
   "metadata": {},
   "outputs": [
    {
     "name": "stdout",
     "output_type": "stream",
     "text": [
      "Run Time: 0.006186962127685547\n"
     ]
    }
   ],
   "source": [
    "start = time.time()\n",
    "accuracy_thr_model = [cal_accuracy_model(i) for i in list(np.arange(0,1,0.1))]\n",
    "end = time.time()\n",
    "print('Run Time:', end-start)"
   ]
  },
  {
   "cell_type": "code",
   "execution_count": 32,
   "metadata": {},
   "outputs": [
    {
     "data": {
      "text/plain": [
       "[0.45000000000000001,\n",
       " 0.5,\n",
       " 0.63,\n",
       " 0.60999999999999999,\n",
       " 0.63,\n",
       " 0.64000000000000001,\n",
       " 0.65000000000000002,\n",
       " 0.67000000000000004,\n",
       " 0.64000000000000001,\n",
       " 0.64000000000000001]"
      ]
     },
     "execution_count": 32,
     "metadata": {},
     "output_type": "execute_result"
    }
   ],
   "source": [
    "accuracy_thr_model"
   ]
  },
  {
   "cell_type": "code",
   "execution_count": 33,
   "metadata": {},
   "outputs": [
    {
     "data": {
      "image/png": "[encoded data removed]",
      "text/plain": [
       "<matplotlib.figure.Figure at 0x1a522b19e8>"
      ]
     },
     "metadata": {},
     "output_type": "display_data"
    }
   ],
   "source": [
    "x = list(np.arange(0,1,0.1))\n",
    "plt.figure(figsize=(10,5))\n",
    "plt.plot(x, accuracy_thr_model)\n",
    "plt.title('Accuracy vs Threshold with word2vec implementation')\n",
    "plt.xlabel('Threshold')\n",
    "plt.ylabel('Accuracy')\n",
    "plt.grid()\n",
    "plt.show()"
   ]
  },
  {
   "cell_type": "code",
   "execution_count": 36,
   "metadata": {},
   "outputs": [
    {
     "name": "stdout",
     "output_type": "stream",
     "text": [
      "Best accuracy we got with threshold 0.7 is 0.67 .\n"
     ]
    }
   ],
   "source": [
    "print('Best accuracy we got with threshold 0.7 is', cal_accuracy_model(0.7), '.')"
   ]
  }
 ],
 "metadata": {
  "kernelspec": {
   "display_name": "Python 3",
   "language": "python",
   "name": "python3"
  },
  "language_info": {
   "codemirror_mode": {
    "name": "ipython",
    "version": 3
   },
   "file_extension": ".py",
   "mimetype": "text/x-python",
   "name": "python",
   "nbconvert_exporter": "python",
   "pygments_lexer": "ipython3",
   "version": "3.6.5"
  },
  "toc": {
   "base_numbering": 1,
   "nav_menu": {},
   "number_sections": true,
   "sideBar": true,
   "skip_h1_title": false,
   "title_cell": "Table of Contents",
   "title_sidebar": "Contents",
   "toc_cell": false,
   "toc_position": {},
   "toc_section_display": true,
   "toc_window_display": false
  }
 },
 "nbformat": 4,
 "nbformat_minor": 2
}
